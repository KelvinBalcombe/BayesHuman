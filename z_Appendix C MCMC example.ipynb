{
 "cells": [
  {
   "cell_type": "markdown",
   "id": "1ede401f",
   "metadata": {},
   "source": [
    "The following does the MCMC draws as in the paper. The likelihood employed is in the bayesprob file"
   ]
  },
  {
   "cell_type": "code",
   "execution_count": 18,
   "id": "2f029507",
   "metadata": {},
   "outputs": [],
   "source": [
    "from bayesprob import *"
   ]
  },
  {
   "cell_type": "code",
   "execution_count": 19,
   "id": "11ece35a",
   "metadata": {},
   "outputs": [],
   "source": [
    "def sampler(pie_s,f_a,f_lamda,f_n):\n",
    "    #Starting values\n",
    "    a_r=.5;n_r=2;lamda=0.5;a=0.5;n=2\n",
    "    ll=llf(pie_s,lamda,n,a,n_r,a_r)\n",
    "    proposal_draws=[]\n",
    "    posterior_draws=[]\n",
    "\n",
    "\n",
    "    rndu=uniform      #Distribution of uniform draws for the sampler\n",
    "    for i in range(100000):  #this sets the number of draws for the sampler\n",
    "        lamda_=float(f_lamda.rvs(1)[0])\n",
    "        a_=float(f_a.rvs(1)[0])\n",
    "\n",
    "        n_=float(f_n.rvs(1)[0])\n",
    "        N_=n_*(1-lamda_)/lamda_\n",
    "\n",
    "        ll_=llf(pie_s,lamda_,n_,a_,n_r,a_r)\n",
    "        rat=np.exp(ll_-ll)\n",
    "        x_=(n_+N_)*pie_s-n_*a_\n",
    "        pie_r_=(a_r*n_r+x_)/(n_r+N_)\n",
    "        if rat>float(rndu.rvs(size=1)[0]):\n",
    "           a,n,lamda,ll,x,pie_r=a_,n_,lamda_,ll_,x_,pie_r_\n",
    "           N=n*(1-lamda)/lamda\n",
    "        proposal_draws+=[[a_,n_,lamda_,np.log(N_)]]    \n",
    "        posterior_draws+=[[a,n,lamda,np.log(N),pie_r,ll]]\n",
    "\n",
    "    proposal_draws=frame(proposal_draws) \n",
    "    posterior_draws=frame(posterior_draws) \n",
    "    posterior_draws=posterior_draws.iloc[1000:] #Remove the first 1000, as a burn in\n",
    "\n",
    "    posterior_draws.columns=symbols4\n",
    "\n",
    "    symbols5=[]\n",
    "    for i in symbols4:\n",
    "        symbols5+=[i[:-1]+'_{p}'+'$']\n",
    "\n",
    "    proposal_draws.columns=symbols5[:4]\n",
    "    return proposal_draws,posterior_draws\n",
    "\n",
    "def graph_dist(pie_s,proposal_draws,posterior_draws):\n",
    "    c=proposal_draws.columns\n",
    "    pltsize(3,15)\n",
    "    fig,ax=plt.subplots(1,5,sharex=False)\n",
    "    fig.suptitle('The priors and posteriors under stated probability='+ str(pie_s))\n",
    "    proposal_draws[[c[0]]].plot(kind='hist',ax=ax[0],bins=100,grid=True,alpha=0.25)\n",
    "    proposal_draws[[c[1]]].plot(kind='hist',ax=ax[1],bins=100,grid=True,alpha=0.25)\n",
    "    proposal_draws[[c[2]]].plot(kind='hist',ax=ax[2],bins=100,grid=True,alpha=0.25)\n",
    "    proposal_draws[[c[3]]].plot(kind='hist',ax=ax[3],bins=100,grid=True,alpha=0.25)\n",
    "    #x[0,4].remove()\n",
    "\n",
    "    c=posterior_draws.columns\n",
    "    posterior_draws[[c[0]]].plot(kind='hist',ax=ax[0],bins=100,grid=True,alpha=0.5)\n",
    "    posterior_draws[[c[1]]].plot(kind='hist',ax=ax[1],bins=100,grid=True,alpha=0.5)\n",
    "    posterior_draws[[c[2]]].plot(kind='hist',ax=ax[2],bins=100,grid=True,alpha=0.5)\n",
    "    posterior_draws[[c[3]]].plot(kind='hist',ax=ax[3],bins=100,grid=True,alpha=0.5)\n",
    "    posterior_draws[[c[4]]].plot(kind='hist',ax=ax[4],bins=100,grid=True,alpha=0.5)"
   ]
  },
  {
   "cell_type": "markdown",
   "id": "19a96fa2",
   "metadata": {},
   "source": [
    "Set the priors (which are also used as proposal distributions for the sampler) along with the stated probability"
   ]
  },
  {
   "cell_type": "code",
   "execution_count": 20,
   "id": "bb9be8c4",
   "metadata": {},
   "outputs": [],
   "source": [
    "f_lamda=beta(1,1)                       #The prior distribution for lamda=n/(n+N) (also the proposal distribution)\n",
    "f_a=beta(1,1)                           #The prior distribution for a              (also the proposal distribution)\n",
    "min_n=2                                 #The minimum n for the distribution\n",
    "f_n=gamma(a=1,scale=1,loc=min_n)        #The prior and proposal distribution for n\n",
    "pie_s=0.9                               #The stated probability"
   ]
  },
  {
   "cell_type": "markdown",
   "id": "75058f5d",
   "metadata": {},
   "source": [
    "Run the sampler"
   ]
  },
  {
   "cell_type": "code",
   "execution_count": 21,
   "id": "445f72e2",
   "metadata": {},
   "outputs": [
    {
     "name": "stderr",
     "output_type": "stream",
     "text": [
      "C:\\Users\\aes05kgb\\AppData\\Local\\Temp\\ipykernel_14708\\1136251169.py:18: RuntimeWarning: overflow encountered in exp\n",
      "  rat=np.exp(ll_-ll)\n"
     ]
    }
   ],
   "source": [
    "proposal_draws,posterior_draws=sampler(pie_s,f_a,f_lamda,f_n)"
   ]
  },
  {
   "cell_type": "markdown",
   "id": "1654ca0b",
   "metadata": {},
   "source": [
    "# The summary of the simulated distributions are below"
   ]
  },
  {
   "cell_type": "code",
   "execution_count": 22,
   "id": "554ed87e",
   "metadata": {},
   "outputs": [
    {
     "data": {
      "text/html": [
       "<div>\n",
       "<style scoped>\n",
       "    .dataframe tbody tr th:only-of-type {\n",
       "        vertical-align: middle;\n",
       "    }\n",
       "\n",
       "    .dataframe tbody tr th {\n",
       "        vertical-align: top;\n",
       "    }\n",
       "\n",
       "    .dataframe thead th {\n",
       "        text-align: right;\n",
       "    }\n",
       "</style>\n",
       "<table border=\"1\" class=\"dataframe\">\n",
       "  <thead>\n",
       "    <tr style=\"text-align: right;\">\n",
       "      <th></th>\n",
       "      <th>$a_{p}$</th>\n",
       "      <th>$n_{p}$</th>\n",
       "      <th>$λ_{p}$</th>\n",
       "      <th>$lnN_{p}$</th>\n",
       "    </tr>\n",
       "  </thead>\n",
       "  <tbody>\n",
       "    <tr>\n",
       "      <th>count</th>\n",
       "      <td>100000.0000</td>\n",
       "      <td>100000.0000</td>\n",
       "      <td>100000.0000</td>\n",
       "      <td>100000.0000</td>\n",
       "    </tr>\n",
       "    <tr>\n",
       "      <th>mean</th>\n",
       "      <td>0.5003</td>\n",
       "      <td>3.0037</td>\n",
       "      <td>0.4991</td>\n",
       "      <td>1.0618</td>\n",
       "    </tr>\n",
       "    <tr>\n",
       "      <th>std</th>\n",
       "      <td>0.2880</td>\n",
       "      <td>1.0019</td>\n",
       "      <td>0.2884</td>\n",
       "      <td>1.8306</td>\n",
       "    </tr>\n",
       "    <tr>\n",
       "      <th>min</th>\n",
       "      <td>0.0000</td>\n",
       "      <td>2.0000</td>\n",
       "      <td>0.0000</td>\n",
       "      <td>-12.2523</td>\n",
       "    </tr>\n",
       "    <tr>\n",
       "      <th>25%</th>\n",
       "      <td>0.2499</td>\n",
       "      <td>2.2894</td>\n",
       "      <td>0.2492</td>\n",
       "      <td>-0.0538</td>\n",
       "    </tr>\n",
       "    <tr>\n",
       "      <th>50%</th>\n",
       "      <td>0.5002</td>\n",
       "      <td>2.6935</td>\n",
       "      <td>0.4980</td>\n",
       "      <td>1.0625</td>\n",
       "    </tr>\n",
       "    <tr>\n",
       "      <th>75%</th>\n",
       "      <td>0.7494</td>\n",
       "      <td>3.3960</td>\n",
       "      <td>0.7479</td>\n",
       "      <td>2.1775</td>\n",
       "    </tr>\n",
       "    <tr>\n",
       "      <th>max</th>\n",
       "      <td>1.0000</td>\n",
       "      <td>17.9436</td>\n",
       "      <td>1.0000</td>\n",
       "      <td>13.1288</td>\n",
       "    </tr>\n",
       "  </tbody>\n",
       "</table>\n",
       "</div>"
      ],
      "text/plain": [
       "           $a_{p}$      $n_{p}$      $λ_{p}$    $lnN_{p}$\n",
       "count  100000.0000  100000.0000  100000.0000  100000.0000\n",
       "mean        0.5003       3.0037       0.4991       1.0618\n",
       "std         0.2880       1.0019       0.2884       1.8306\n",
       "min         0.0000       2.0000       0.0000     -12.2523\n",
       "25%         0.2499       2.2894       0.2492      -0.0538\n",
       "50%         0.5002       2.6935       0.4980       1.0625\n",
       "75%         0.7494       3.3960       0.7479       2.1775\n",
       "max         1.0000      17.9436       1.0000      13.1288"
      ]
     },
     "execution_count": 22,
     "metadata": {},
     "output_type": "execute_result"
    }
   ],
   "source": [
    "proposal_draws.describe().round(4)"
   ]
  },
  {
   "cell_type": "code",
   "execution_count": 23,
   "id": "ea7acf99",
   "metadata": {},
   "outputs": [
    {
     "data": {
      "text/html": [
       "<div>\n",
       "<style scoped>\n",
       "    .dataframe tbody tr th:only-of-type {\n",
       "        vertical-align: middle;\n",
       "    }\n",
       "\n",
       "    .dataframe tbody tr th {\n",
       "        vertical-align: top;\n",
       "    }\n",
       "\n",
       "    .dataframe thead th {\n",
       "        text-align: right;\n",
       "    }\n",
       "</style>\n",
       "<table border=\"1\" class=\"dataframe\">\n",
       "  <thead>\n",
       "    <tr style=\"text-align: right;\">\n",
       "      <th></th>\n",
       "      <th>$a$</th>\n",
       "      <th>$n$</th>\n",
       "      <th>$λ$</th>\n",
       "      <th>$lnN$</th>\n",
       "      <th>$π_{r}$</th>\n",
       "      <th>loglik</th>\n",
       "    </tr>\n",
       "  </thead>\n",
       "  <tbody>\n",
       "    <tr>\n",
       "      <th>count</th>\n",
       "      <td>99000.000000</td>\n",
       "      <td>99000.000000</td>\n",
       "      <td>99000.000000</td>\n",
       "      <td>99000.000000</td>\n",
       "      <td>99000.000000</td>\n",
       "      <td>99000.000000</td>\n",
       "    </tr>\n",
       "    <tr>\n",
       "      <th>mean</th>\n",
       "      <td>0.744028</td>\n",
       "      <td>3.060612</td>\n",
       "      <td>0.343210</td>\n",
       "      <td>2.072948</td>\n",
       "      <td>0.792509</td>\n",
       "      <td>0.288948</td>\n",
       "    </tr>\n",
       "    <tr>\n",
       "      <th>std</th>\n",
       "      <td>0.248373</td>\n",
       "      <td>1.042882</td>\n",
       "      <td>0.281313</td>\n",
       "      <td>1.799123</td>\n",
       "      <td>0.134532</td>\n",
       "      <td>0.290149</td>\n",
       "    </tr>\n",
       "    <tr>\n",
       "      <th>min</th>\n",
       "      <td>0.000091</td>\n",
       "      <td>2.000043</td>\n",
       "      <td>0.000031</td>\n",
       "      <td>-4.551151</td>\n",
       "      <td>0.389660</td>\n",
       "      <td>0.000025</td>\n",
       "    </tr>\n",
       "    <tr>\n",
       "      <th>25%</th>\n",
       "      <td>0.626832</td>\n",
       "      <td>2.310118</td>\n",
       "      <td>0.100121</td>\n",
       "      <td>0.821998</td>\n",
       "      <td>0.702446</td>\n",
       "      <td>0.065349</td>\n",
       "    </tr>\n",
       "    <tr>\n",
       "      <th>50%</th>\n",
       "      <td>0.845377</td>\n",
       "      <td>2.745881</td>\n",
       "      <td>0.255977</td>\n",
       "      <td>2.128129</td>\n",
       "      <td>0.846354</td>\n",
       "      <td>0.176105</td>\n",
       "    </tr>\n",
       "    <tr>\n",
       "      <th>75%</th>\n",
       "      <td>0.927401</td>\n",
       "      <td>3.479339</td>\n",
       "      <td>0.563428</td>\n",
       "      <td>3.271225</td>\n",
       "      <td>0.899821</td>\n",
       "      <td>0.440772</td>\n",
       "    </tr>\n",
       "    <tr>\n",
       "      <th>max</th>\n",
       "      <td>0.999979</td>\n",
       "      <td>14.306420</td>\n",
       "      <td>0.995367</td>\n",
       "      <td>12.091963</td>\n",
       "      <td>0.979798</td>\n",
       "      <td>1.781969</td>\n",
       "    </tr>\n",
       "  </tbody>\n",
       "</table>\n",
       "</div>"
      ],
      "text/plain": [
       "                $a$           $n$           $λ$         $lnN$       $π_{r}$  \\\n",
       "count  99000.000000  99000.000000  99000.000000  99000.000000  99000.000000   \n",
       "mean       0.744028      3.060612      0.343210      2.072948      0.792509   \n",
       "std        0.248373      1.042882      0.281313      1.799123      0.134532   \n",
       "min        0.000091      2.000043      0.000031     -4.551151      0.389660   \n",
       "25%        0.626832      2.310118      0.100121      0.821998      0.702446   \n",
       "50%        0.845377      2.745881      0.255977      2.128129      0.846354   \n",
       "75%        0.927401      3.479339      0.563428      3.271225      0.899821   \n",
       "max        0.999979     14.306420      0.995367     12.091963      0.979798   \n",
       "\n",
       "             loglik  \n",
       "count  99000.000000  \n",
       "mean       0.288948  \n",
       "std        0.290149  \n",
       "min        0.000025  \n",
       "25%        0.065349  \n",
       "50%        0.176105  \n",
       "75%        0.440772  \n",
       "max        1.781969  "
      ]
     },
     "execution_count": 23,
     "metadata": {},
     "output_type": "execute_result"
    }
   ],
   "source": [
    "posterior_draws.describe()"
   ]
  },
  {
   "cell_type": "markdown",
   "id": "39c73d5a",
   "metadata": {},
   "source": [
    "# Figure C1"
   ]
  },
  {
   "cell_type": "code",
   "execution_count": 24,
   "id": "705e7954",
   "metadata": {},
   "outputs": [
    {
     "data": {
      "image/png": "[encoded data removed]",
      "text/plain": [
       "<Figure size 1500x300 with 5 Axes>"
      ]
     },
     "metadata": {},
     "output_type": "display_data"
    }
   ],
   "source": [
    "graph_dist(pie_s,proposal_draws,posterior_draws)\n",
    "#plt.savefig(direcout+'FigC.1'+'.png',bbox_inches='tight')"
   ]
  },
  {
   "cell_type": "code",
   "execution_count": null,
   "id": "0b5cd2dd",
   "metadata": {},
   "outputs": [],
   "source": []
  },
  {
   "cell_type": "code",
   "execution_count": null,
   "id": "cfad8f88",
   "metadata": {},
   "outputs": [],
   "source": []
  },
  {
   "cell_type": "code",
   "execution_count": null,
   "id": "3abdbc83",
   "metadata": {},
   "outputs": [],
   "source": []
  }
 ],
 "metadata": {
  "kernelspec": {
   "display_name": "Python 3 (ipykernel)",
   "language": "python",
   "name": "python3"
  },
  "language_info": {
   "codemirror_mode": {
    "name": "ipython",
    "version": 3
   },
   "file_extension": ".py",
   "mimetype": "text/x-python",
   "name": "python",
   "nbconvert_exporter": "python",
   "pygments_lexer": "ipython3",
   "version": "3.11.7"
  }
 },
 "nbformat": 4,
 "nbformat_minor": 5
}
